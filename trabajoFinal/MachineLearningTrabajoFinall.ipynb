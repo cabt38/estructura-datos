{
  "nbformat": 4,
  "nbformat_minor": 0,
  "metadata": {
    "colab": {
      "provenance": [],
      "authorship_tag": "ABX9TyNkSHiwENae7qoCL3H6VWo4",
      "include_colab_link": true
    },
    "kernelspec": {
      "name": "python3",
      "display_name": "Python 3"
    },
    "language_info": {
      "name": "python"
    }
  },
  "cells": [
    {
      "cell_type": "markdown",
      "metadata": {
        "id": "view-in-github",
        "colab_type": "text"
      },
      "source": [
        "<a href=\"https://colab.research.google.com/github/cabt38/estructura-datos/blob/main/MachineLearningTrabajoFinall.ipynb\" target=\"_parent\"><img src=\"https://colab.research.google.com/assets/colab-badge.svg\" alt=\"Open In Colab\"/></a>"
      ]
    },
    {
      "cell_type": "code",
      "execution_count": null,
      "metadata": {
        "colab": {
          "base_uri": "https://localhost:8080/",
          "height": 715
        },
        "id": "nHHG-qijZ6y8",
        "outputId": "6b2affbf-fa7f-4869-f1ce-33f74670a2ca"
      },
      "outputs": [
        {
          "output_type": "stream",
          "name": "stdout",
          "text": [
            "                                            Etiqueta  Cluster\n",
            "0                         Administración de Empresas        1\n",
            "1                              Ingeniería Industrial        0\n",
            "2                                 Contaduría Pública        0\n",
            "3                                            Derecho        0\n",
            "4                                           Medicina        0\n",
            "5                             Ingeniería de Sistemas        1\n",
            "6                                         Psicología        0\n",
            "7                                         Enfermería        0\n",
            "8                   Comunicación Social y Periodismo        0\n",
            "9                                           Economía        0\n",
            "10                                  Ingeniería Civil        0\n",
            "11                                      Arquitectura        0\n",
            "12                                       Odontología        0\n",
            "13                            Ingeniería Electrónica        0\n",
            "14                               Ingeniería Mecánica        0\n",
            "15                                         Pedagogía        0\n",
            "16                                    Diseño Gráfico        0\n",
            "17                              Ingeniería Ambiental        0\n",
            "18                                       Veterinaria        0\n",
            "19                                Ingeniería Química        0\n",
            "20                          Bailar salsa y vallenato        0\n",
            "21                     Disfrutar de la comida típica        2\n",
            "22                                            Fútbol        0\n",
            "23                                          Ciclismo        0\n",
            "24                                              Café        0\n",
            "25                            Explorar la naturaleza        2\n",
            "26                        Visitar pueblos coloniales        1\n",
            "27                 Celebrar Carnaval de Barranquilla        1\n",
            "28                           Relajarse en las playas        0\n",
            "29                 Visitar museos y galerías de arte        1\n",
            "30                      Practicar deportes acuáticos        0\n",
            "31                            Escuchar música cumbia        0\n",
            "32          Compartir tiempo con la familia y amigos        2\n",
            "33  Participar en eventos religiosos y tradicionales        0\n"
          ]
        },
        {
          "output_type": "stream",
          "name": "stderr",
          "text": [
            "/usr/local/lib/python3.10/dist-packages/sklearn/cluster/_kmeans.py:870: FutureWarning: The default value of `n_init` will change from 10 to 'auto' in 1.4. Set the value of `n_init` explicitly to suppress the warning\n",
            "  warnings.warn(\n"
          ]
        },
        {
          "output_type": "execute_result",
          "data": {
            "text/plain": [
              "'for cluster_id in range(num_clusters):\\n    cluster = etiquetas_clusters[etiquetas_clusters[\\'Cluster\\'] == cluster_id]\\n    print(f\"Clúster {cluster_id}:\")\\n    print(cluster[\\'Etiqueta\\'].tolist())\\n    print()'"
            ],
            "application/vnd.google.colaboratory.intrinsic+json": {
              "type": "string"
            }
          },
          "metadata": {},
          "execution_count": 11
        }
      ],
      "source": [
        "import pandas as pd\n",
        "from sklearn.feature_extraction.text import TfidfVectorizer\n",
        "from sklearn.cluster import KMeans\n",
        "\n",
        "# Datos de ejemplo\n",
        "etiquetas = [\"Administración de Empresas\", \"Ingeniería Industrial\", \"Contaduría Pública\", \"Derecho\", \"Medicina\",\n",
        "            \"Ingeniería de Sistemas\", \"Psicología\", \"Enfermería\", \"Comunicación Social y Periodismo\", \"Economía\",\n",
        "            \"Ingeniería Civil\", \"Arquitectura\", \"Odontología\", \"Ingeniería Electrónica\", \"Ingeniería Mecánica\",\n",
        "            \"Pedagogía\", \"Diseño Gráfico\", \"Ingeniería Ambiental\", \"Veterinaria\", \"Ingeniería Química\"]\n",
        "\n",
        "etiquetas2 = [\"Bailar salsa y vallenato\", \"Disfrutar de la comida típica\", \"Fútbol\", \"Ciclismo\", \"Café\",\n",
        "                        \"Explorar la naturaleza\", \"Visitar pueblos coloniales\",  \"Celebrar Carnaval de Barranquilla\",\n",
        "                        \"Relajarse en las playas\", \"Visitar museos y galerías de arte\", \"Practicar deportes acuáticos\",\n",
        "                        \"Escuchar música cumbia\", \"Compartir tiempo con la familia y amigos\",\n",
        "                        \"Participar en eventos religiosos y tradicionales\"]\n",
        "\n",
        "# Creamos una matriz TF-IDF de los datos de etiquetas\n",
        "vectorizer = TfidfVectorizer()\n",
        "tfidf_matrix = vectorizer.fit_transform(etiquetas + etiquetas2)  # Concatenamos ambas listas\n",
        "\n",
        "# Utilizamos K-Means para agrupar las etiquetas en clústeres\n",
        "num_clusters = 3  # Número de clústeres a crear\n",
        "kmeans = KMeans(n_clusters=num_clusters, random_state=42)  # Añadimos random_state para reproducibilidad\n",
        "kmeans.fit(tfidf_matrix)\n",
        "\n",
        "# Asignamos cada etiqueta a un clúster\n",
        "etiquetas_clusters = pd.DataFrame({'Etiqueta': etiquetas + etiquetas2, 'Cluster': kmeans.labels_})\n",
        "\n",
        "print(etiquetas_clusters)\n",
        "# Imprimimos los resultados\n",
        "\"\"\"for cluster_id in range(num_clusters):\n",
        "    cluster = etiquetas_clusters[etiquetas_clusters['Cluster'] == cluster_id]\n",
        "    print(f\"Clúster {cluster_id}:\")\n",
        "    print(cluster['Etiqueta'].tolist())\n",
        "    print()\"\"\"\n"
      ]
    }
  ]
}